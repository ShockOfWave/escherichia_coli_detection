{
 "cells": [
  {
   "cell_type": "code",
   "execution_count": 1,
   "metadata": {},
   "outputs": [],
   "source": [
    "import sys\n",
    "sys.path.append('..')\n",
    "\n",
    "import pickle\n",
    "import pandas as pd\n",
    "from sklearn.metrics import accuracy_score\n",
    "\n",
    "from src.evaluations.load_models import load_mlp_model"
   ]
  },
  {
   "cell_type": "code",
   "execution_count": 2,
   "metadata": {},
   "outputs": [],
   "source": [
    "model = load_mlp_model()"
   ]
  },
  {
   "cell_type": "code",
   "execution_count": 3,
   "metadata": {},
   "outputs": [
    {
     "data": {
      "text/html": [
       "<div>\n",
       "<style scoped>\n",
       "    .dataframe tbody tr th:only-of-type {\n",
       "        vertical-align: middle;\n",
       "    }\n",
       "\n",
       "    .dataframe tbody tr th {\n",
       "        vertical-align: top;\n",
       "    }\n",
       "\n",
       "    .dataframe thead th {\n",
       "        text-align: right;\n",
       "    }\n",
       "</style>\n",
       "<table border=\"1\" class=\"dataframe\">\n",
       "  <thead>\n",
       "    <tr style=\"text-align: right;\">\n",
       "      <th></th>\n",
       "      <th>Compound</th>\n",
       "      <th>0.02 V</th>\n",
       "      <th>0.1 V</th>\n",
       "      <th>0.5 V</th>\n",
       "      <th>1 V</th>\n",
       "      <th>5 V</th>\n",
       "    </tr>\n",
       "  </thead>\n",
       "  <tbody>\n",
       "    <tr>\n",
       "      <th>0</th>\n",
       "      <td>10⁹ (CFU/ml)</td>\n",
       "      <td>-0.000019</td>\n",
       "      <td>-0.000026</td>\n",
       "      <td>-0.000090</td>\n",
       "      <td>-0.000454</td>\n",
       "      <td>-0.00979</td>\n",
       "    </tr>\n",
       "    <tr>\n",
       "      <th>1</th>\n",
       "      <td>10⁹ (CFU/ml)</td>\n",
       "      <td>-0.000019</td>\n",
       "      <td>-0.000026</td>\n",
       "      <td>-0.000089</td>\n",
       "      <td>-0.000450</td>\n",
       "      <td>-0.00963</td>\n",
       "    </tr>\n",
       "    <tr>\n",
       "      <th>2</th>\n",
       "      <td>10⁹ (CFU/ml)</td>\n",
       "      <td>-0.000019</td>\n",
       "      <td>-0.000026</td>\n",
       "      <td>-0.000088</td>\n",
       "      <td>-0.000446</td>\n",
       "      <td>-0.00950</td>\n",
       "    </tr>\n",
       "    <tr>\n",
       "      <th>3</th>\n",
       "      <td>10⁹ (CFU/ml)</td>\n",
       "      <td>-0.000019</td>\n",
       "      <td>-0.000025</td>\n",
       "      <td>-0.000087</td>\n",
       "      <td>-0.000441</td>\n",
       "      <td>-0.00941</td>\n",
       "    </tr>\n",
       "    <tr>\n",
       "      <th>4</th>\n",
       "      <td>10⁹ (CFU/ml)</td>\n",
       "      <td>-0.000018</td>\n",
       "      <td>-0.000025</td>\n",
       "      <td>-0.000086</td>\n",
       "      <td>-0.000436</td>\n",
       "      <td>-0.00931</td>\n",
       "    </tr>\n",
       "    <tr>\n",
       "      <th>...</th>\n",
       "      <td>...</td>\n",
       "      <td>...</td>\n",
       "      <td>...</td>\n",
       "      <td>...</td>\n",
       "      <td>...</td>\n",
       "      <td>...</td>\n",
       "    </tr>\n",
       "    <tr>\n",
       "      <th>36031</th>\n",
       "      <td>10² (CFU/ml)</td>\n",
       "      <td>0.000001</td>\n",
       "      <td>-0.000002</td>\n",
       "      <td>-0.000013</td>\n",
       "      <td>-0.000079</td>\n",
       "      <td>-0.01113</td>\n",
       "    </tr>\n",
       "    <tr>\n",
       "      <th>36032</th>\n",
       "      <td>10² (CFU/ml)</td>\n",
       "      <td>0.000001</td>\n",
       "      <td>-0.000002</td>\n",
       "      <td>-0.000013</td>\n",
       "      <td>-0.000081</td>\n",
       "      <td>-0.01136</td>\n",
       "    </tr>\n",
       "    <tr>\n",
       "      <th>36033</th>\n",
       "      <td>10² (CFU/ml)</td>\n",
       "      <td>0.000001</td>\n",
       "      <td>-0.000002</td>\n",
       "      <td>-0.000013</td>\n",
       "      <td>-0.000084</td>\n",
       "      <td>-0.01157</td>\n",
       "    </tr>\n",
       "    <tr>\n",
       "      <th>36034</th>\n",
       "      <td>10² (CFU/ml)</td>\n",
       "      <td>0.000001</td>\n",
       "      <td>-0.000002</td>\n",
       "      <td>-0.000014</td>\n",
       "      <td>-0.000086</td>\n",
       "      <td>-0.01178</td>\n",
       "    </tr>\n",
       "    <tr>\n",
       "      <th>36035</th>\n",
       "      <td>10² (CFU/ml)</td>\n",
       "      <td>0.000001</td>\n",
       "      <td>-0.000002</td>\n",
       "      <td>-0.000014</td>\n",
       "      <td>-0.000088</td>\n",
       "      <td>-0.01200</td>\n",
       "    </tr>\n",
       "  </tbody>\n",
       "</table>\n",
       "<p>36036 rows × 6 columns</p>\n",
       "</div>"
      ],
      "text/plain": [
       "           Compound    0.02 V     0.1 V     0.5 V       1 V      5 V\n",
       "0      10⁹ (CFU/ml) -0.000019 -0.000026 -0.000090 -0.000454 -0.00979\n",
       "1      10⁹ (CFU/ml) -0.000019 -0.000026 -0.000089 -0.000450 -0.00963\n",
       "2      10⁹ (CFU/ml) -0.000019 -0.000026 -0.000088 -0.000446 -0.00950\n",
       "3      10⁹ (CFU/ml) -0.000019 -0.000025 -0.000087 -0.000441 -0.00941\n",
       "4      10⁹ (CFU/ml) -0.000018 -0.000025 -0.000086 -0.000436 -0.00931\n",
       "...             ...       ...       ...       ...       ...      ...\n",
       "36031  10² (CFU/ml)  0.000001 -0.000002 -0.000013 -0.000079 -0.01113\n",
       "36032  10² (CFU/ml)  0.000001 -0.000002 -0.000013 -0.000081 -0.01136\n",
       "36033  10² (CFU/ml)  0.000001 -0.000002 -0.000013 -0.000084 -0.01157\n",
       "36034  10² (CFU/ml)  0.000001 -0.000002 -0.000014 -0.000086 -0.01178\n",
       "36035  10² (CFU/ml)  0.000001 -0.000002 -0.000014 -0.000088 -0.01200\n",
       "\n",
       "[36036 rows x 6 columns]"
      ]
     },
     "execution_count": 3,
     "metadata": {},
     "output_type": "execute_result"
    }
   ],
   "source": [
    "data_path = '../data/processed/version_2/train.csv'\n",
    "data = pd.read_csv(data_path)\n",
    "data"
   ]
  },
  {
   "cell_type": "code",
   "execution_count": 4,
   "metadata": {},
   "outputs": [],
   "source": [
    "min_max = pickle.load(open('../models/process/version_2/MinMaxScaler.pkl', 'rb'))\n",
    "le = pickle.load(open('../models/process/version_2/LabelEncoder.pkl', 'rb'))\n",
    "X_data = min_max.transform(data.drop('Compound', axis=1))\n",
    "y_data = le.transform(data['Compound'])"
   ]
  },
  {
   "cell_type": "code",
   "execution_count": 5,
   "metadata": {},
   "outputs": [],
   "source": [
    "pred = model.predict(X_data)"
   ]
  },
  {
   "cell_type": "code",
   "execution_count": 6,
   "metadata": {},
   "outputs": [
    {
     "data": {
      "text/plain": [
       "0.9749139749139749"
      ]
     },
     "execution_count": 6,
     "metadata": {},
     "output_type": "execute_result"
    }
   ],
   "source": [
    "accuracy_score(y_data, pred)"
   ]
  }
 ],
 "metadata": {
  "kernelspec": {
   "display_name": "venv",
   "language": "python",
   "name": "python3"
  },
  "language_info": {
   "codemirror_mode": {
    "name": "ipython",
    "version": 3
   },
   "file_extension": ".py",
   "mimetype": "text/x-python",
   "name": "python",
   "nbconvert_exporter": "python",
   "pygments_lexer": "ipython3",
   "version": "3.10.12"
  },
  "orig_nbformat": 4
 },
 "nbformat": 4,
 "nbformat_minor": 2
}
